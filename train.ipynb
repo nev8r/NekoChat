{
 "cells": [
  {
   "cell_type": "code",
   "execution_count": 1,
   "id": "a825813d",
   "metadata": {},
   "outputs": [],
   "source": [
    "pretrained_model_name_or_path = \"./internlm2_5-7b-chat\""
   ]
  }
 ],
 "metadata": {
  "kernelspec": {
   "display_name": "Python 3",
   "language": "python",
   "name": "python3"
  },
  "language_info": {
   "codemirror_mode": {
    "name": "ipython",
    "version": 3
   },
   "file_extension": ".py",
   "mimetype": "text/x-python",
   "name": "python",
   "nbconvert_exporter": "python",
   "pygments_lexer": "ipython3",
   "version": "3.10.14"
  }
 },
 "nbformat": 4,
 "nbformat_minor": 5
}
